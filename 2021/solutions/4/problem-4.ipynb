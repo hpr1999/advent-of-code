{
 "cells": [
  {
   "cell_type": "markdown",
   "metadata": {},
   "source": [
    "# Advent of Code Problem Nr. 4\n",
    "\n",
    "> You're already almost 1.5km (almost a mile) below the surface of the ocean, already so deep that you can't see any sunlight. What you can see, however, is a giant squid that has attached itself to the outside of your submarine. Maybe it wants to play bingo?"
   ]
  },
  {
   "cell_type": "markdown",
   "metadata": {},
   "source": [
    "## Setup the data\n",
    "\n",
    "As always, we'll ingest our data into pandas and import the utilities used for displaying in IPython."
   ]
  },
  {
   "cell_type": "code",
   "execution_count": 20,
   "metadata": {},
   "outputs": [],
   "source": [
    "from IPython.display import display, Markdown,Latex\n",
    "import pandas as pd\n",
    "import numpy as np\n",
    "\n",
    "bingo_boards:pd.DataFrame = pd.read_csv('../../inputs/4/bingo-boards.csv',dtype='int',sep='\\s+',header=None)\n",
    "numbers_drawn:pd.Series = pd.read_csv('../../inputs/4/draw-order.csv',dtype='int',header=None).T[0]"
   ]
  },
  {
   "cell_type": "markdown",
   "metadata": {},
   "source": [
    "With some additional processing, we can get the boards split up so that we can access each bingo-board on its own."
   ]
  },
  {
   "cell_type": "code",
   "execution_count": 21,
   "metadata": {},
   "outputs": [
    {
     "data": {
      "text/html": [
       "<div>\n",
       "<style scoped>\n",
       "    .dataframe tbody tr th:only-of-type {\n",
       "        vertical-align: middle;\n",
       "    }\n",
       "\n",
       "    .dataframe tbody tr th {\n",
       "        vertical-align: top;\n",
       "    }\n",
       "\n",
       "    .dataframe thead th {\n",
       "        text-align: right;\n",
       "    }\n",
       "</style>\n",
       "<table border=\"1\" class=\"dataframe\">\n",
       "  <thead>\n",
       "    <tr style=\"text-align: right;\">\n",
       "      <th></th>\n",
       "      <th></th>\n",
       "      <th>0</th>\n",
       "      <th>1</th>\n",
       "      <th>2</th>\n",
       "      <th>3</th>\n",
       "      <th>4</th>\n",
       "    </tr>\n",
       "    <tr>\n",
       "      <th>board_index</th>\n",
       "      <th>row_index</th>\n",
       "      <th></th>\n",
       "      <th></th>\n",
       "      <th></th>\n",
       "      <th></th>\n",
       "      <th></th>\n",
       "    </tr>\n",
       "  </thead>\n",
       "  <tbody>\n",
       "    <tr>\n",
       "      <th rowspan=\"5\" valign=\"top\">0</th>\n",
       "      <th>0</th>\n",
       "      <td>78</td>\n",
       "      <td>13</td>\n",
       "      <td>8</td>\n",
       "      <td>62</td>\n",
       "      <td>67</td>\n",
       "    </tr>\n",
       "    <tr>\n",
       "      <th>1</th>\n",
       "      <td>42</td>\n",
       "      <td>89</td>\n",
       "      <td>97</td>\n",
       "      <td>16</td>\n",
       "      <td>65</td>\n",
       "    </tr>\n",
       "    <tr>\n",
       "      <th>2</th>\n",
       "      <td>5</td>\n",
       "      <td>12</td>\n",
       "      <td>73</td>\n",
       "      <td>50</td>\n",
       "      <td>56</td>\n",
       "    </tr>\n",
       "    <tr>\n",
       "      <th>3</th>\n",
       "      <td>45</td>\n",
       "      <td>10</td>\n",
       "      <td>63</td>\n",
       "      <td>41</td>\n",
       "      <td>64</td>\n",
       "    </tr>\n",
       "    <tr>\n",
       "      <th>4</th>\n",
       "      <td>49</td>\n",
       "      <td>1</td>\n",
       "      <td>95</td>\n",
       "      <td>71</td>\n",
       "      <td>17</td>\n",
       "    </tr>\n",
       "    <tr>\n",
       "      <th>...</th>\n",
       "      <th>...</th>\n",
       "      <td>...</td>\n",
       "      <td>...</td>\n",
       "      <td>...</td>\n",
       "      <td>...</td>\n",
       "      <td>...</td>\n",
       "    </tr>\n",
       "    <tr>\n",
       "      <th rowspan=\"5\" valign=\"top\">99</th>\n",
       "      <th>0</th>\n",
       "      <td>57</td>\n",
       "      <td>95</td>\n",
       "      <td>40</td>\n",
       "      <td>92</td>\n",
       "      <td>27</td>\n",
       "    </tr>\n",
       "    <tr>\n",
       "      <th>1</th>\n",
       "      <td>65</td>\n",
       "      <td>37</td>\n",
       "      <td>42</td>\n",
       "      <td>90</td>\n",
       "      <td>9</td>\n",
       "    </tr>\n",
       "    <tr>\n",
       "      <th>2</th>\n",
       "      <td>17</td>\n",
       "      <td>72</td>\n",
       "      <td>78</td>\n",
       "      <td>43</td>\n",
       "      <td>45</td>\n",
       "    </tr>\n",
       "    <tr>\n",
       "      <th>3</th>\n",
       "      <td>87</td>\n",
       "      <td>28</td>\n",
       "      <td>48</td>\n",
       "      <td>81</td>\n",
       "      <td>79</td>\n",
       "    </tr>\n",
       "    <tr>\n",
       "      <th>4</th>\n",
       "      <td>7</td>\n",
       "      <td>4</td>\n",
       "      <td>24</td>\n",
       "      <td>67</td>\n",
       "      <td>70</td>\n",
       "    </tr>\n",
       "  </tbody>\n",
       "</table>\n",
       "<p>500 rows × 5 columns</p>\n",
       "</div>"
      ],
      "text/plain": [
       "                        0   1   2   3   4\n",
       "board_index row_index                    \n",
       "0           0          78  13   8  62  67\n",
       "            1          42  89  97  16  65\n",
       "            2           5  12  73  50  56\n",
       "            3          45  10  63  41  64\n",
       "            4          49   1  95  71  17\n",
       "...                    ..  ..  ..  ..  ..\n",
       "99          0          57  95  40  92  27\n",
       "            1          65  37  42  90   9\n",
       "            2          17  72  78  43  45\n",
       "            3          87  28  48  81  79\n",
       "            4           7   4  24  67  70\n",
       "\n",
       "[500 rows x 5 columns]"
      ]
     },
     "metadata": {},
     "output_type": "display_data"
    }
   ],
   "source": [
    "bingo_boards[\"board_index\"]=(bingo_boards.index//5)\n",
    "bingo_boards[\"row_index\"]=(bingo_boards.index % 5)\n",
    "\n",
    "bingo_boards = bingo_boards.set_index([\"board_index\",\"row_index\"])\n",
    "\n",
    "display(bingo_boards)"
   ]
  },
  {
   "cell_type": "markdown",
   "metadata": {},
   "source": [
    "Now, our data is set up for the future, with a nice pandas multiindex to boot.\n",
    "\n",
    "-----"
   ]
  },
  {
   "cell_type": "markdown",
   "metadata": {},
   "source": [
    "## Part One"
   ]
  },
  {
   "cell_type": "markdown",
   "metadata": {},
   "source": [
    "For the first task, we need to calculate the winning board, which is the one in which the drawn numbers first fill one column or row.\n",
    "\n",
    "With that board identified, the answer to the puzzle is the sum of all unmarked numbers multiplied by the last number that was just drawn to make the board the winning one."
   ]
  },
  {
   "cell_type": "markdown",
   "metadata": {},
   "source": [
    "-----\n",
    "\n",
    "First, let's write a function that tells us whether a column or row of a board won with a given sequence of numbers."
   ]
  },
  {
   "cell_type": "code",
   "execution_count": 22,
   "metadata": {},
   "outputs": [
    {
     "data": {
      "text/markdown": [
       "-----"
      ],
      "text/plain": [
       "<IPython.core.display.Markdown object>"
      ]
     },
     "metadata": {},
     "output_type": "display_data"
    },
    {
     "data": {
      "text/markdown": [
       "*Example Usage*:"
      ],
      "text/plain": [
       "<IPython.core.display.Markdown object>"
      ]
     },
     "metadata": {},
     "output_type": "display_data"
    },
    {
     "data": {
      "text/markdown": [
       "\n",
       "  The shortest winning sequence for row `[1, 2, 3]`\n",
       "  out of draw `[2, 3, 4, 1, 6]` is \n",
       "  `4` numbers long.\n",
       "  "
      ],
      "text/plain": [
       "<IPython.core.display.Markdown object>"
      ]
     },
     "metadata": {},
     "output_type": "display_data"
    }
   ],
   "source": [
    "def winning_sequence_length(board_series: pd.Series,\n",
    "                            draw_sequence: pd.Series,\n",
    "                            max_length: int = None) -> 'None|int':\n",
    "    \"\"\"\n",
    "  For a given board_series (a column or row), decide whether it wins the game with the given draw_sequence. If yes, return the shortest prefix of the given draw_sequence that is necessary to win, otherwise return None.\n",
    "  \"\"\"\n",
    "    temp_series = board_series.copy()\n",
    "    for index, num in draw_sequence.iteritems():\n",
    "        if max_length and max_length < index: return None\n",
    "        temp_series = temp_series[temp_series.ne(num)]\n",
    "        if temp_series.empty: return index + 1\n",
    "\n",
    "\n",
    "display(Markdown('-----'))\n",
    "display(Markdown('*Example Usage*:'))\n",
    "example_row = pd.Series([1, 2, 3])\n",
    "example_draw = pd.Series([2, 3, 4, 1, 6])\n",
    "display(\n",
    "    Markdown(f\"\"\"\n",
    "  The shortest winning sequence for row `{example_row.to_list()}`\n",
    "  out of draw `{example_draw.to_list()}` is \n",
    "  `{winning_sequence_length(example_row, example_draw)}` numbers long.\n",
    "  \"\"\"))\n"
   ]
  },
  {
   "cell_type": "markdown",
   "metadata": {},
   "source": [
    "-----\n",
    "With this, we can apply it to all boards."
   ]
  },
  {
   "cell_type": "code",
   "execution_count": 23,
   "metadata": {},
   "outputs": [],
   "source": [
    "board_sequence_lengths = {}\n",
    "\n",
    "\n",
    "def offer_sequence_length(board_index: int, sequence_length: int):\n",
    "    if sequence_length and (\n",
    "            board_index not in board_sequence_lengths\n",
    "            or sequence_length < board_sequence_lengths[board_index]):\n",
    "        board_sequence_lengths[board_index] = sequence_length\n",
    "\n",
    "\n",
    "for board_index, board in bingo_boards.groupby(level=0):\n",
    "    for _, column in board.iteritems():\n",
    "        offer_sequence_length(\n",
    "            board_index,\n",
    "            winning_sequence_length(\n",
    "                column,\n",
    "                numbers_drawn,\n",
    "                max_length=board_sequence_lengths.get(board_index)))\n",
    "    for _, row in board.iterrows():\n",
    "        offer_sequence_length(\n",
    "            board_index,\n",
    "            winning_sequence_length(\n",
    "                row,\n",
    "                numbers_drawn,\n",
    "                max_length=board_sequence_lengths.get(board_index)))\n"
   ]
  },
  {
   "cell_type": "markdown",
   "metadata": {},
   "source": [
    "As a result, we now have a dictionary that contains each board's winning length, so we can determine which wins first."
   ]
  },
  {
   "cell_type": "code",
   "execution_count": 24,
   "metadata": {},
   "outputs": [
    {
     "data": {
      "text/markdown": [
       "The first board to win is the board with the index `94`, which wins after `27` numbers have been drawn."
      ],
      "text/plain": [
       "<IPython.core.display.Markdown object>"
      ]
     },
     "metadata": {},
     "output_type": "display_data"
    }
   ],
   "source": [
    "first_winning_board_index = min(board_sequence_lengths,\n",
    "                                key=board_sequence_lengths.get)\n",
    "winning_board_draw_length = board_sequence_lengths[first_winning_board_index]\n",
    "\n",
    "display(\n",
    "    Markdown(\n",
    "        f'The first board to win is the board with the index `{first_winning_board_index}`, which wins after `{winning_board_draw_length}` numbers have been drawn.'\n",
    "    ))\n"
   ]
  },
  {
   "cell_type": "code",
   "execution_count": 25,
   "metadata": {},
   "outputs": [
    {
     "data": {
      "text/markdown": [
       "*The winning board looks like this:*"
      ],
      "text/plain": [
       "<IPython.core.display.Markdown object>"
      ]
     },
     "metadata": {},
     "output_type": "display_data"
    },
    {
     "data": {
      "text/html": [
       "<div>\n",
       "<style scoped>\n",
       "    .dataframe tbody tr th:only-of-type {\n",
       "        vertical-align: middle;\n",
       "    }\n",
       "\n",
       "    .dataframe tbody tr th {\n",
       "        vertical-align: top;\n",
       "    }\n",
       "\n",
       "    .dataframe thead th {\n",
       "        text-align: right;\n",
       "    }\n",
       "</style>\n",
       "<table border=\"1\" class=\"dataframe\">\n",
       "  <thead>\n",
       "    <tr style=\"text-align: right;\">\n",
       "      <th></th>\n",
       "      <th></th>\n",
       "      <th>0</th>\n",
       "      <th>1</th>\n",
       "      <th>2</th>\n",
       "      <th>3</th>\n",
       "      <th>4</th>\n",
       "    </tr>\n",
       "    <tr>\n",
       "      <th>board_index</th>\n",
       "      <th>row_index</th>\n",
       "      <th></th>\n",
       "      <th></th>\n",
       "      <th></th>\n",
       "      <th></th>\n",
       "      <th></th>\n",
       "    </tr>\n",
       "  </thead>\n",
       "  <tbody>\n",
       "    <tr>\n",
       "      <th rowspan=\"5\" valign=\"top\">94</th>\n",
       "      <th>0</th>\n",
       "      <td>70</td>\n",
       "      <td>56</td>\n",
       "      <td>80</td>\n",
       "      <td>12</td>\n",
       "      <td>11</td>\n",
       "    </tr>\n",
       "    <tr>\n",
       "      <th>1</th>\n",
       "      <td>35</td>\n",
       "      <td>55</td>\n",
       "      <td>40</td>\n",
       "      <td>71</td>\n",
       "      <td>87</td>\n",
       "    </tr>\n",
       "    <tr>\n",
       "      <th>2</th>\n",
       "      <td>84</td>\n",
       "      <td>27</td>\n",
       "      <td>96</td>\n",
       "      <td>46</td>\n",
       "      <td>85</td>\n",
       "    </tr>\n",
       "    <tr>\n",
       "      <th>3</th>\n",
       "      <td>20</td>\n",
       "      <td>23</td>\n",
       "      <td>26</td>\n",
       "      <td>29</td>\n",
       "      <td>14</td>\n",
       "    </tr>\n",
       "    <tr>\n",
       "      <th>4</th>\n",
       "      <td>58</td>\n",
       "      <td>37</td>\n",
       "      <td>21</td>\n",
       "      <td>75</td>\n",
       "      <td>68</td>\n",
       "    </tr>\n",
       "  </tbody>\n",
       "</table>\n",
       "</div>"
      ],
      "text/plain": [
       "                        0   1   2   3   4\n",
       "board_index row_index                    \n",
       "94          0          70  56  80  12  11\n",
       "            1          35  55  40  71  87\n",
       "            2          84  27  96  46  85\n",
       "            3          20  23  26  29  14\n",
       "            4          58  37  21  75  68"
      ]
     },
     "metadata": {},
     "output_type": "display_data"
    }
   ],
   "source": [
    "first_winning_board = bingo_boards.query(f\"board_index=={first_winning_board_index}\")\n",
    "display(Markdown(f\"*The winning board looks like this:*\"))\n",
    "display(first_winning_board)"
   ]
  },
  {
   "cell_type": "code",
   "execution_count": 26,
   "metadata": {},
   "outputs": [
    {
     "data": {
      "text/latex": [
       "\n",
       "    Now we can answer the puzzle:\n",
       "\n",
       "    \\(r = s_{notDrawn} \\times drawn_{last}=662 \\times 96=63552\\).\n",
       "    "
      ],
      "text/plain": [
       "<IPython.core.display.Latex object>"
      ]
     },
     "metadata": {},
     "output_type": "display_data"
    }
   ],
   "source": [
    "numbers_actually_drawn = numbers_drawn.head(\n",
    "    winning_board_draw_length).to_list()\n",
    "\n",
    "not_drawn = [\n",
    "    val for sublist in first_winning_board.values for val in sublist\n",
    "    if val not in numbers_actually_drawn\n",
    "]\n",
    "\n",
    "result = sum(not_drawn) * numbers_actually_drawn[-1]\n",
    "\n",
    "display(\n",
    "    Latex(f\"\"\"\n",
    "    Now we can answer the puzzle:\n",
    "\n",
    "    \\(r = s_{{notDrawn}} \\\\times drawn_{{last}}={sum(not_drawn)} \\\\times {numbers_actually_drawn[-1]}={result}\\).\n",
    "    \"\"\"))\n"
   ]
  },
  {
   "cell_type": "markdown",
   "metadata": {},
   "source": [
    "Yay, right again :)\n",
    "\n",
    "-----"
   ]
  },
  {
   "cell_type": "markdown",
   "metadata": {},
   "source": [
    "## Part Two\n",
    "\n",
    "Now we want to *lose* instead of win.\n",
    "Let's find out which board will win last."
   ]
  },
  {
   "cell_type": "code",
   "execution_count": 27,
   "metadata": {},
   "outputs": [
    {
     "data": {
      "text/markdown": [
       "The last board to win is the board with the index `93`, which wins after `85` numbers have been drawn."
      ],
      "text/plain": [
       "<IPython.core.display.Markdown object>"
      ]
     },
     "metadata": {},
     "output_type": "display_data"
    }
   ],
   "source": [
    "last_winning_board_index = max(board_sequence_lengths,\n",
    "                               key=board_sequence_lengths.get)\n",
    "losing_board_draw_length = board_sequence_lengths[last_winning_board_index]\n",
    "\n",
    "display(\n",
    "    Markdown(\n",
    "        f'The last board to win is the board with the index `{last_winning_board_index}`, which wins after `{losing_board_draw_length}` numbers have been drawn.'\n",
    "    ))\n"
   ]
  },
  {
   "cell_type": "code",
   "execution_count": 28,
   "metadata": {},
   "outputs": [
    {
     "data": {
      "text/markdown": [
       "*The losing board looks like this:*"
      ],
      "text/plain": [
       "<IPython.core.display.Markdown object>"
      ]
     },
     "metadata": {},
     "output_type": "display_data"
    },
    {
     "data": {
      "text/html": [
       "<div>\n",
       "<style scoped>\n",
       "    .dataframe tbody tr th:only-of-type {\n",
       "        vertical-align: middle;\n",
       "    }\n",
       "\n",
       "    .dataframe tbody tr th {\n",
       "        vertical-align: top;\n",
       "    }\n",
       "\n",
       "    .dataframe thead th {\n",
       "        text-align: right;\n",
       "    }\n",
       "</style>\n",
       "<table border=\"1\" class=\"dataframe\">\n",
       "  <thead>\n",
       "    <tr style=\"text-align: right;\">\n",
       "      <th></th>\n",
       "      <th></th>\n",
       "      <th>0</th>\n",
       "      <th>1</th>\n",
       "      <th>2</th>\n",
       "      <th>3</th>\n",
       "      <th>4</th>\n",
       "    </tr>\n",
       "    <tr>\n",
       "      <th>board_index</th>\n",
       "      <th>row_index</th>\n",
       "      <th></th>\n",
       "      <th></th>\n",
       "      <th></th>\n",
       "      <th></th>\n",
       "      <th></th>\n",
       "    </tr>\n",
       "  </thead>\n",
       "  <tbody>\n",
       "    <tr>\n",
       "      <th rowspan=\"5\" valign=\"top\">93</th>\n",
       "      <th>0</th>\n",
       "      <td>50</td>\n",
       "      <td>66</td>\n",
       "      <td>43</td>\n",
       "      <td>39</td>\n",
       "      <td>16</td>\n",
       "    </tr>\n",
       "    <tr>\n",
       "      <th>1</th>\n",
       "      <td>88</td>\n",
       "      <td>94</td>\n",
       "      <td>60</td>\n",
       "      <td>70</td>\n",
       "      <td>64</td>\n",
       "    </tr>\n",
       "    <tr>\n",
       "      <th>2</th>\n",
       "      <td>63</td>\n",
       "      <td>80</td>\n",
       "      <td>56</td>\n",
       "      <td>69</td>\n",
       "      <td>36</td>\n",
       "    </tr>\n",
       "    <tr>\n",
       "      <th>3</th>\n",
       "      <td>53</td>\n",
       "      <td>48</td>\n",
       "      <td>32</td>\n",
       "      <td>22</td>\n",
       "      <td>79</td>\n",
       "    </tr>\n",
       "    <tr>\n",
       "      <th>4</th>\n",
       "      <td>59</td>\n",
       "      <td>77</td>\n",
       "      <td>20</td>\n",
       "      <td>30</td>\n",
       "      <td>67</td>\n",
       "    </tr>\n",
       "  </tbody>\n",
       "</table>\n",
       "</div>"
      ],
      "text/plain": [
       "                        0   1   2   3   4\n",
       "board_index row_index                    \n",
       "93          0          50  66  43  39  16\n",
       "            1          88  94  60  70  64\n",
       "            2          63  80  56  69  36\n",
       "            3          53  48  32  22  79\n",
       "            4          59  77  20  30  67"
      ]
     },
     "metadata": {},
     "output_type": "display_data"
    }
   ],
   "source": [
    "last_winning_board = bingo_boards.query(\n",
    "    f\"board_index=={last_winning_board_index}\")\n",
    "display(Markdown(f\"*The losing board looks like this:*\"))\n",
    "display(last_winning_board)"
   ]
  },
  {
   "cell_type": "code",
   "execution_count": 29,
   "metadata": {},
   "outputs": [
    {
     "data": {
      "text/latex": [
       "\n",
       "    Now we can answer the puzzle:\n",
       "\n",
       "    \\(r = s_{notDrawn} \\times drawn_{last}=451 \\times 20=9020\\).\n",
       "    "
      ],
      "text/plain": [
       "<IPython.core.display.Latex object>"
      ]
     },
     "metadata": {},
     "output_type": "display_data"
    }
   ],
   "source": [
    "numbers_actually_drawn = numbers_drawn.head(\n",
    "    losing_board_draw_length).to_list()\n",
    "\n",
    "not_drawn = [\n",
    "    val for sublist in last_winning_board.values for val in sublist\n",
    "    if val not in numbers_actually_drawn\n",
    "]\n",
    "\n",
    "result = sum(not_drawn) * numbers_actually_drawn[-1]\n",
    "\n",
    "display(\n",
    "    Latex(f\"\"\"\n",
    "    Now we can answer the puzzle:\n",
    "\n",
    "    \\(r = s_{{notDrawn}} \\\\times drawn_{{last}}={sum(not_drawn)} \\\\times {numbers_actually_drawn[-1]}={result}\\).\n",
    "    \"\"\"))\n"
   ]
  },
  {
   "cell_type": "markdown",
   "metadata": {},
   "source": [
    "And just like that, we did it!"
   ]
  }
 ],
 "metadata": {
  "interpreter": {
   "hash": "cd72a4381b822617272ba7edd9b6d377ac0a52f81d3243ad2d70394330ec5693"
  },
  "kernelspec": {
   "display_name": "Python 3.8.10 64-bit ('python-venv': venv)",
   "language": "python",
   "name": "python3"
  },
  "language_info": {
   "codemirror_mode": {
    "name": "ipython",
    "version": 3
   },
   "file_extension": ".py",
   "mimetype": "text/x-python",
   "name": "python",
   "nbconvert_exporter": "python",
   "pygments_lexer": "ipython3",
   "version": "3.8.10"
  },
  "orig_nbformat": 4
 },
 "nbformat": 4,
 "nbformat_minor": 2
}
