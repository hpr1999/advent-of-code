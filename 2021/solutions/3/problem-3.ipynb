{
 "cells": [
  {
   "cell_type": "markdown",
   "metadata": {},
   "source": [
    "# Advent of Code Problem Number 3\n",
    "\n",
    "> The submarine has been making some odd creaking noises, so you ask it to produce a diagnostic report just in case.\n",
    "\n",
    "## Part One\n",
    "\n",
    "In this puzzle, we'll need to analyse a report given in binary numbers to extract the power consumption of the submarine, which is defined by:\n",
    "\n",
    "$$ p = \\gamma \\times \\epsilon $$\n",
    "\n",
    "Our gamma rate $\\gamma$ is a binary number in which each position of $\\gamma$ has the value that is most common in the corresponding position in the report.\n",
    "Our epsilon rate is calculated in the opposite way, being composed of the least common value of each position."
   ]
  },
  {
   "cell_type": "markdown",
   "metadata": {},
   "source": [
    "-----\n",
    "As always, we'll set up the environment and data first."
   ]
  },
  {
   "cell_type": "code",
   "execution_count": 234,
   "metadata": {},
   "outputs": [],
   "source": [
    "from IPython.display import display, Markdown,Latex\n",
    "import pandas as pd\n",
    "import numpy as np\n",
    "\n",
    "input_data:pd.DataFrame = pd.read_csv('../../inputs/3/diagnostic-report.csv',dtype=str)\n",
    "input_data[\"report_value\"] = input_data[\"report_value\"].str.rstrip()\n",
    "input_data_split:pd.DataFrame = input_data[\"report_value\"].apply(lambda x: pd.Series(list(x))).astype('int')"
   ]
  },
  {
   "cell_type": "markdown",
   "metadata": {},
   "source": [
    "With the data in place as columns, we can simply analyse each column to get the value"
   ]
  },
  {
   "cell_type": "code",
   "execution_count": 235,
   "metadata": {},
   "outputs": [
    {
     "data": {
      "text/latex": [
       "\n",
       "    The average value of column 0 is \\(\\frac{sum}{size}=\\frac{524}{1000}=0.524\\).\n",
       "    As \\(0.524 > 0.5\\), the most common value is 1\n",
       "    "
      ],
      "text/plain": [
       "<IPython.core.display.Latex object>"
      ]
     },
     "metadata": {},
     "output_type": "display_data"
    },
    {
     "data": {
      "text/latex": [
       "\n",
       "    The average value of column 1 is \\(\\frac{sum}{size}=\\frac{512}{1000}=0.512\\).\n",
       "    As \\(0.512 > 0.5\\), the most common value is 1\n",
       "    "
      ],
      "text/plain": [
       "<IPython.core.display.Latex object>"
      ]
     },
     "metadata": {},
     "output_type": "display_data"
    },
    {
     "data": {
      "text/latex": [
       "\n",
       "    The average value of column 2 is \\(\\frac{sum}{size}=\\frac{505}{1000}=0.505\\).\n",
       "    As \\(0.505 > 0.5\\), the most common value is 1\n",
       "    "
      ],
      "text/plain": [
       "<IPython.core.display.Latex object>"
      ]
     },
     "metadata": {},
     "output_type": "display_data"
    },
    {
     "data": {
      "text/latex": [
       "\n",
       "    The average value of column 3 is \\(\\frac{sum}{size}=\\frac{505}{1000}=0.505\\).\n",
       "    As \\(0.505 > 0.5\\), the most common value is 1\n",
       "    "
      ],
      "text/plain": [
       "<IPython.core.display.Latex object>"
      ]
     },
     "metadata": {},
     "output_type": "display_data"
    },
    {
     "data": {
      "text/latex": [
       "\n",
       "    The average value of column 4 is \\(\\frac{sum}{size}=\\frac{489}{1000}=0.489\\).\n",
       "    As \\(0.489 < 0.5\\), the most common value is 0\n",
       "    "
      ],
      "text/plain": [
       "<IPython.core.display.Latex object>"
      ]
     },
     "metadata": {},
     "output_type": "display_data"
    },
    {
     "data": {
      "text/latex": [
       "\n",
       "    The average value of column 5 is \\(\\frac{sum}{size}=\\frac{494}{1000}=0.494\\).\n",
       "    As \\(0.494 < 0.5\\), the most common value is 0\n",
       "    "
      ],
      "text/plain": [
       "<IPython.core.display.Latex object>"
      ]
     },
     "metadata": {},
     "output_type": "display_data"
    },
    {
     "data": {
      "text/latex": [
       "\n",
       "    The average value of column 6 is \\(\\frac{sum}{size}=\\frac{518}{1000}=0.518\\).\n",
       "    As \\(0.518 > 0.5\\), the most common value is 1\n",
       "    "
      ],
      "text/plain": [
       "<IPython.core.display.Latex object>"
      ]
     },
     "metadata": {},
     "output_type": "display_data"
    },
    {
     "data": {
      "text/latex": [
       "\n",
       "    The average value of column 7 is \\(\\frac{sum}{size}=\\frac{475}{1000}=0.475\\).\n",
       "    As \\(0.475 < 0.5\\), the most common value is 0\n",
       "    "
      ],
      "text/plain": [
       "<IPython.core.display.Latex object>"
      ]
     },
     "metadata": {},
     "output_type": "display_data"
    },
    {
     "data": {
      "text/latex": [
       "\n",
       "    The average value of column 8 is \\(\\frac{sum}{size}=\\frac{494}{1000}=0.494\\).\n",
       "    As \\(0.494 < 0.5\\), the most common value is 0\n",
       "    "
      ],
      "text/plain": [
       "<IPython.core.display.Latex object>"
      ]
     },
     "metadata": {},
     "output_type": "display_data"
    },
    {
     "data": {
      "text/latex": [
       "\n",
       "    The average value of column 9 is \\(\\frac{sum}{size}=\\frac{479}{1000}=0.479\\).\n",
       "    As \\(0.479 < 0.5\\), the most common value is 0\n",
       "    "
      ],
      "text/plain": [
       "<IPython.core.display.Latex object>"
      ]
     },
     "metadata": {},
     "output_type": "display_data"
    },
    {
     "data": {
      "text/latex": [
       "\n",
       "    The average value of column 10 is \\(\\frac{sum}{size}=\\frac{504}{1000}=0.504\\).\n",
       "    As \\(0.504 > 0.5\\), the most common value is 1\n",
       "    "
      ],
      "text/plain": [
       "<IPython.core.display.Latex object>"
      ]
     },
     "metadata": {},
     "output_type": "display_data"
    },
    {
     "data": {
      "text/latex": [
       "\n",
       "    The average value of column 11 is \\(\\frac{sum}{size}=\\frac{520}{1000}=0.52\\).\n",
       "    As \\(0.52 > 0.5\\), the most common value is 1\n",
       "    "
      ],
      "text/plain": [
       "<IPython.core.display.Latex object>"
      ]
     },
     "metadata": {},
     "output_type": "display_data"
    }
   ],
   "source": [
    "def most_and_least_common_value_for_column(label,\n",
    "                                           column: pd.Series,\n",
    "                                           equal_count_fallback=None,\n",
    "                                           verbose=False):\n",
    "    size = column.size\n",
    "    sum = column.astype('int8').sum()\n",
    "    average = sum / size\n",
    "\n",
    "    most_and_least_common_value = (1, 0) if average > 0.5 else (\n",
    "        0, 1\n",
    "    ) if average < 0.5 else equal_count_fallback if not equal_count_fallback == None else None\n",
    "\n",
    "    if most_and_least_common_value == None:\n",
    "        raise ValueError(\"No fallback for equal counts\")\n",
    "\n",
    "    if verbose:\n",
    "        inequality_sign = '>' if average > 0.5 else '<'\n",
    "        display(\n",
    "            Latex(f\"\"\"\n",
    "    The average value of column {label} is \\(\\\\frac{{sum}}{{size}}=\\\\frac{{{sum}}}{{{size}}}={average}\\).\n",
    "    As \\({average} {inequality_sign} {0.5}\\), the most common value is {most_and_least_common_value[0]}\n",
    "    \"\"\"))\n",
    "\n",
    "    return most_and_least_common_value\n",
    "\n",
    "\n",
    "def most_and_least_common_values_for_data_frame(data: pd.DataFrame,\n",
    "                                                verbose=False):\n",
    "    most_and_least_common_values = []\n",
    "\n",
    "    for (label, column) in data.iteritems():\n",
    "        most_and_least_common_values.append(\n",
    "            most_and_least_common_value_for_column(label,\n",
    "                                                   column,\n",
    "                                                   verbose=verbose))\n",
    "\n",
    "    return most_and_least_common_values\n",
    "\n",
    "\n",
    "most_and_least_common_values = most_and_least_common_values_for_data_frame(\n",
    "    input_data_split, verbose=True)\n"
   ]
  },
  {
   "cell_type": "code",
   "execution_count": 236,
   "metadata": {},
   "outputs": [
    {
     "data": {
      "text/markdown": [
       "Finally, the most and least common values of each column are: `[(1, 0), (1, 0), (1, 0), (1, 0), (0, 1), (0, 1), (1, 0), (0, 1), (0, 1), (0, 1), (1, 0), (1, 0)]`"
      ],
      "text/plain": [
       "<IPython.core.display.Markdown object>"
      ]
     },
     "metadata": {},
     "output_type": "display_data"
    },
    {
     "data": {
      "text/latex": [
       "Therefore, \\(\\gamma = 111100100011=3875\\) and \\(\\epsilon = 000011011100=220\\)"
      ],
      "text/plain": [
       "<IPython.core.display.Latex object>"
      ]
     },
     "metadata": {},
     "output_type": "display_data"
    },
    {
     "data": {
      "text/latex": [
       "The answer to the puzzle is then \\(p=\\gamma \\times \\epsilon =3875\\times220=852500\\)"
      ],
      "text/plain": [
       "<IPython.core.display.Latex object>"
      ]
     },
     "metadata": {},
     "output_type": "display_data"
    }
   ],
   "source": [
    "gamma_str = ''.join(str(x[0]) for x in most_and_least_common_values)\n",
    "gamma = int(gamma_str,base=2)\n",
    "epsilon_str = ''.join(str(x[1]) for x in most_and_least_common_values)\n",
    "epsilon = int(epsilon_str,base=2)\n",
    "\n",
    "display(Markdown(f\"Finally, the most and least common values of each column are: `{most_and_least_common_values}`\"))\n",
    "display(Latex(f'Therefore, \\(\\gamma = {gamma_str}={gamma}\\) and \\(\\epsilon = {epsilon_str}={epsilon}\\)'))\n",
    "display(Latex(f'The answer to the puzzle is then \\(p=\\gamma \\\\times \\epsilon ={gamma}\\\\times{epsilon}={gamma*epsilon}\\)'))"
   ]
  },
  {
   "cell_type": "markdown",
   "metadata": {},
   "source": [
    "Hooray! Correct!\n",
    "\n",
    "-----"
   ]
  },
  {
   "cell_type": "markdown",
   "metadata": {},
   "source": [
    "## Part Two\n",
    "\n",
    "> Next, you should verify the life support rating, which can be determined by multiplying the oxygen generator rating by the CO2 scrubber rating.\n",
    "\n",
    "$ ls = O_2 \\times CO_2$\n",
    "\n",
    "To evaluate $O_2$: Starting at the leftmost position, discard all numbers which do not match the most common value for that position. Continue with the following positions until there's only one left. \n",
    "To evaluate $CO_2$: Follow the same process, but use the least common value instead."
   ]
  },
  {
   "cell_type": "markdown",
   "metadata": {},
   "source": [
    "The key part to this challenge is continously recomputing the most and least common value."
   ]
  },
  {
   "cell_type": "code",
   "execution_count": 237,
   "metadata": {},
   "outputs": [],
   "source": [
    "df_co2 = input_data_split.copy()\n",
    "\n",
    "\n",
    "def calc_o2(data: pd.DataFrame):\n",
    "    df_o2 = data.copy()\n",
    "    for (label, _) in data.iteritems():\n",
    "        most_common_val, _ = most_and_least_common_value_for_column(\n",
    "            label, df_o2[label], equal_count_fallback=(1, 0))\n",
    "        new_df_o2 = df_o2[df_o2[label].eq(most_common_val)]\n",
    "        if len(new_df_o2.index) >= 1:\n",
    "            df_o2 = new_df_o2\n",
    "    return df_o2\n",
    "\n",
    "\n",
    "def calc_co2(data: pd.DataFrame):\n",
    "    df_co2 = data.copy()\n",
    "    for (label, _) in data.iteritems():\n",
    "        _, least_common_val = most_and_least_common_value_for_column(\n",
    "            label, df_co2[label], equal_count_fallback=(1, 0))\n",
    "        new_df_co2 = df_co2[df_co2[label].eq(least_common_val)]\n",
    "        if len(new_df_co2.index) >= 1:\n",
    "            df_co2 = new_df_co2\n",
    "    return df_co2\n",
    "\n",
    "\n",
    "df_o2: pd.DataFrame = calc_o2(input_data_split)\n",
    "df_co2: pd.DataFrame = calc_co2(input_data_split)\n",
    "\n",
    "assert len(df_o2.index) == 1 and len(df_co2.index) == 1"
   ]
  },
  {
   "cell_type": "markdown",
   "metadata": {},
   "source": [
    "After having done the heavy lifting, we still need to extract the numbers from the dataframes and multiply them."
   ]
  },
  {
   "cell_type": "code",
   "execution_count": 238,
   "metadata": {},
   "outputs": [
    {
     "data": {
      "text/latex": [
       "\n",
       "The only values left for \\(O_2\\) and \\(CO_2\\) are \\(100010111011\\) and \\(000111000011\\).\n",
       "\n",
       "Therefore:\n",
       "\n",
       "$O_2 = 2235$\n",
       "$CO_2 = 451$\n",
       "$ls = O_2 \\times CO_2 = 2235 \\times 451 = 1007985.$\n",
       "\n"
      ],
      "text/plain": [
       "<IPython.core.display.Latex object>"
      ]
     },
     "metadata": {},
     "output_type": "display_data"
    }
   ],
   "source": [
    "def convert_result_from_one_line_df(data:pd.DataFrame)->'tuple[str,int]':\n",
    "  result_arr = data.values[0]\n",
    "  result_str = ''.join(str(x) for x in result_arr)\n",
    "  return (result_str,int(result_str,base=2))\n",
    "\n",
    "co2_str, co2 = convert_result_from_one_line_df(df_co2)\n",
    "o2_str, o2 = convert_result_from_one_line_df(df_o2)\n",
    "\n",
    "display(Latex(\n",
    "f\"\"\"\n",
    "The only values left for \\(O_2\\) and \\(CO_2\\) are \\({o2_str}\\) and \\({co2_str}\\).\n",
    "\n",
    "Therefore:\n",
    "\n",
    "$O_2 = {o2},$\n",
    "$CO_2 = {co2},$\n",
    "$ls = O_2 \\\\times CO_2 = {o2} \\\\times {co2} = {o2*co2}.$\n",
    "\n",
    "\"\"\"\n",
    "))"
   ]
  },
  {
   "cell_type": "markdown",
   "metadata": {},
   "source": [
    "And we're correct again. Great, huh?"
   ]
  }
 ],
 "metadata": {
  "interpreter": {
   "hash": "cd72a4381b822617272ba7edd9b6d377ac0a52f81d3243ad2d70394330ec5693"
  },
  "kernelspec": {
   "display_name": "Python 3.8.10 64-bit ('python-venv': venv)",
   "language": "python",
   "name": "python3"
  },
  "language_info": {
   "codemirror_mode": {
    "name": "ipython",
    "version": 3
   },
   "file_extension": ".py",
   "mimetype": "text/x-python",
   "name": "python",
   "nbconvert_exporter": "python",
   "pygments_lexer": "ipython3",
   "version": "3.8.10"
  },
  "orig_nbformat": 4
 },
 "nbformat": 4,
 "nbformat_minor": 2
}
