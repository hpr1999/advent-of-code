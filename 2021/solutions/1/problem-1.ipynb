{
 "cells": [
  {
   "cell_type": "markdown",
   "metadata": {},
   "source": [
    "# Advent of Code Problem Nr. 1\n",
    "\n",
    "## First Part\n",
    "\n",
    "> We're looking for sleigh keys in the ocean with a submarine.\n",
    "> In order to find the keys, we'll have to boost the antenna's signal by getting fifty stars.\n",
    ">\n",
    "> Today, we'll use a sonar sweep. A screen shows the sweep report, which is the input.\n",
    "> Each line of the input shows the depth of the ocean at that location, travelling farther from the submarine.\n",
    "> \n",
    "> First, we need to calculare the rate at which the depth increases.\n",
    "> The answer to the first puzzle is the number of times a measurement ist deeper than the previous measurement."
   ]
  },
  {
   "cell_type": "markdown",
   "metadata": {},
   "source": [
    "---- \n",
    "\n",
    "We'll start by preparing the environment and the input."
   ]
  },
  {
   "cell_type": "code",
   "execution_count": 1,
   "metadata": {},
   "outputs": [],
   "source": [
    "from IPython.display import display, Markdown\n",
    "import pandas as pd\n",
    "\n",
    "\n",
    "input = pd.read_csv('../../inputs/1/sonar-sweep.csv')\n",
    "depths = input[\"depth\"]"
   ]
  },
  {
   "cell_type": "markdown",
   "metadata": {},
   "source": [
    "Now that we have collected the depths into a list, we can start searching for the values that are deeper than the previous one."
   ]
  },
  {
   "cell_type": "code",
   "execution_count": 2,
   "metadata": {},
   "outputs": [],
   "source": [
    "def indices_larger_than_immediate_previous(values: pd.Series) -> 'list[int]':\n",
    "    result = []\n",
    "    for (index, depth) in values.iteritems():\n",
    "        if index > 0 and depth > values[index - 1]:\n",
    "            result.append(index)\n",
    "    return result"
   ]
  },
  {
   "cell_type": "markdown",
   "metadata": {},
   "source": [
    "Now that that's done, let's output the result of the puzzle: "
   ]
  },
  {
   "cell_type": "code",
   "execution_count": 3,
   "metadata": {},
   "outputs": [
    {
     "data": {
      "text/markdown": [
       "-----"
      ],
      "text/plain": [
       "<IPython.core.display.Markdown object>"
      ]
     },
     "metadata": {},
     "output_type": "display_data"
    },
    {
     "data": {
      "text/markdown": [
       "The answer to the first puzzle of day one is `1266`."
      ],
      "text/plain": [
       "<IPython.core.display.Markdown object>"
      ]
     },
     "metadata": {},
     "output_type": "display_data"
    }
   ],
   "source": [
    "answer_one = len(indices_larger_than_immediate_previous(depths))\n",
    "display(Markdown('-----'))\n",
    "display(Markdown(f'The answer to the first puzzle of day one is `{answer_one}`.'))"
   ]
  },
  {
   "cell_type": "markdown",
   "metadata": {},
   "source": [
    "Great, that was correct!\n",
    "\n",
    "-----"
   ]
  },
  {
   "cell_type": "markdown",
   "metadata": {},
   "source": [
    "## Second Part \n",
    "\n",
    "Now we can go into the second part of the problem.\n",
    "\n",
    "> Instead of comparing two values at a time, we are now looking at three-measurment windows.\n",
    "> The windows only advance one value at a time, so that adjacent windows always share two values.\n",
    "> \n",
    "> We then compare the sum of the windows' values to the next in the same way we compared the values before.\n",
    "\n",
    "-----"
   ]
  },
  {
   "cell_type": "code",
   "execution_count": 4,
   "metadata": {},
   "outputs": [],
   "source": [
    "WINDOW_SIZE = 3\n",
    "first_index_of_last_window = len(depths) - WINDOW_SIZE\n",
    "depths_windows_start_indices = [i for i in range(0, first_index_of_last_window + 1)]\n",
    "depths_windows = [(depths[i],depths[i+1],depths[i+2]) for i in depths_windows_start_indices]\n",
    "window_sums = [sum(window) for window in depths_windows]"
   ]
  },
  {
   "cell_type": "markdown",
   "metadata": {},
   "source": [
    "After we have computed the sums of the windows, we can use our previously defined function to obtain the answer to the second part of the puzzle."
   ]
  },
  {
   "cell_type": "code",
   "execution_count": 5,
   "metadata": {},
   "outputs": [
    {
     "data": {
      "text/markdown": [
       "-----"
      ],
      "text/plain": [
       "<IPython.core.display.Markdown object>"
      ]
     },
     "metadata": {},
     "output_type": "display_data"
    },
    {
     "data": {
      "text/markdown": [
       "The answer to the second puzzle of day one is `1217`."
      ],
      "text/plain": [
       "<IPython.core.display.Markdown object>"
      ]
     },
     "metadata": {},
     "output_type": "display_data"
    }
   ],
   "source": [
    "answer_two = len(indices_larger_than_immediate_previous(pd.Series(window_sums)))\n",
    "display(Markdown('-----'))\n",
    "display(Markdown(f'The answer to the second puzzle of day one is `{answer_two}`.'))"
   ]
  }
 ],
 "metadata": {
  "interpreter": {
   "hash": "916dbcbb3f70747c44a77c7bcd40155683ae19c65e1c03b4aa3499c5328201f1"
  },
  "kernelspec": {
   "display_name": "Python 3.8.10 64-bit",
   "language": "python",
   "name": "python3"
  },
  "language_info": {
   "codemirror_mode": {
    "name": "ipython",
    "version": 3
   },
   "file_extension": ".py",
   "mimetype": "text/x-python",
   "name": "python",
   "nbconvert_exporter": "python",
   "pygments_lexer": "ipython3",
   "version": "3.8.10"
  },
  "orig_nbformat": 4
 },
 "nbformat": 4,
 "nbformat_minor": 2
}
