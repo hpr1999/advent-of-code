{
 "cells": [
  {
   "cell_type": "markdown",
   "metadata": {},
   "source": [
    "# Problem Nr. 2\n",
    "\n",
    "> Now, you need to figure out how to pilot this thing.\n",
    "\n",
    "## Part 1\n",
    "\n",
    "The submarine can take sequences of commands in the syntax:\n",
    "\n",
    "```\n",
    "forward X\n",
    "down X\n",
    "up X\n",
    "```\n",
    "\n",
    "Our job is to calculare the final horizontal position and depth and supply the product of $horizontalPosition \\times depth$"
   ]
  },
  {
   "cell_type": "markdown",
   "metadata": {},
   "source": [
    "---- \n",
    "\n",
    "We'll start by preparing the environment and the input."
   ]
  },
  {
   "cell_type": "code",
   "execution_count": 2,
   "metadata": {},
   "outputs": [],
   "source": [
    "from IPython.display import display, Markdown,Latex\n",
    "import pandas as pd\n",
    "\n",
    "input_data = pd.read_csv('../../inputs/2/course-instructions.csv', sep=' ')\n"
   ]
  },
  {
   "cell_type": "markdown",
   "metadata": {},
   "source": [
    "We'll need to handle our current position and how to change it when reading the commands.\n",
    "Our initial position will be (0,0) (forward/backward,depth)."
   ]
  },
  {
   "cell_type": "code",
   "execution_count": 3,
   "metadata": {},
   "outputs": [
    {
     "data": {
      "text/markdown": [
       "The initial position is `Position(forward=0, depth=0)`."
      ],
      "text/plain": [
       "<IPython.core.display.Markdown object>"
      ]
     },
     "metadata": {},
     "output_type": "display_data"
    }
   ],
   "source": [
    "from typing import NamedTuple\n",
    "\n",
    "\n",
    "class Position(NamedTuple):\n",
    "    forward: int\n",
    "    depth: int\n",
    "\n",
    "\n",
    "current_position: Position = Position(forward=0, depth=0)\n",
    "\n",
    "display(Markdown(f'The initial position is `{current_position}`.'))\n"
   ]
  },
  {
   "cell_type": "markdown",
   "metadata": {},
   "source": [
    "Now, let's write some functions to handle the syntax of the input."
   ]
  },
  {
   "cell_type": "code",
   "execution_count": 4,
   "metadata": {},
   "outputs": [],
   "source": [
    "def handle_forward(magnitude: int, current_position: Position) -> Position:\n",
    "    return current_position._replace(forward=current_position.forward +\n",
    "                                     magnitude)\n",
    "\n",
    "\n",
    "def handle_up(magnitude: int, current_position: Position) -> Position:\n",
    "    return current_position._replace(depth=current_position.depth - magnitude)\n",
    "\n",
    "\n",
    "def handle_down(magnitude: int, current_position: Position) -> Position:\n",
    "    return current_position._replace(depth=current_position.depth + magnitude)\n"
   ]
  },
  {
   "cell_type": "markdown",
   "metadata": {},
   "source": [
    "Now we still need to parse the output lines."
   ]
  },
  {
   "cell_type": "code",
   "execution_count": 5,
   "metadata": {},
   "outputs": [],
   "source": [
    "command_dict = {\n",
    "    \"forward\": handle_forward,\n",
    "    \"up\": handle_up,\n",
    "    \"down\": handle_down\n",
    "}\n",
    "\n",
    "\n",
    "def handle_command(command: str, current_position: Position,\n",
    "                   magnitude: int) -> Position:\n",
    "    command_handler = command_dict[command]\n",
    "    if command_handler is None:\n",
    "        raise NameError(f'Encountered unknown command {command}.')\n",
    "    else:\n",
    "        return command_handler(magnitude=magnitude,\n",
    "                               current_position=current_position)\n"
   ]
  },
  {
   "cell_type": "markdown",
   "metadata": {},
   "source": [
    "And when done with this, everything comes together and we can start processing our commands."
   ]
  },
  {
   "cell_type": "code",
   "execution_count": 6,
   "metadata": {},
   "outputs": [
    {
     "data": {
      "text/markdown": [
       "The current_position after processing all commands is `Position(forward=2105, depth=807)`."
      ],
      "text/plain": [
       "<IPython.core.display.Markdown object>"
      ]
     },
     "metadata": {},
     "output_type": "display_data"
    }
   ],
   "source": [
    "for (index, direction, magnitude) in input_data.itertuples():\n",
    "    current_position = handle_command(command=direction,current_position=current_position,magnitude=magnitude)\n",
    "\n",
    "display(Markdown(f'The current_position after processing all commands is `{current_position}`.'))"
   ]
  },
  {
   "cell_type": "markdown",
   "metadata": {},
   "source": [
    "Now, it's trivial to provide the answer, which is the product of the forward position and depth.\n"
   ]
  },
  {
   "cell_type": "code",
   "execution_count": 7,
   "metadata": {},
   "outputs": [
    {
     "data": {
      "text/markdown": [
       "------"
      ],
      "text/plain": [
       "<IPython.core.display.Markdown object>"
      ]
     },
     "metadata": {},
     "output_type": "display_data"
    },
    {
     "data": {
      "text/markdown": [
       "The product of the horizontal and vertical position is `1698735`."
      ],
      "text/plain": [
       "<IPython.core.display.Markdown object>"
      ]
     },
     "metadata": {},
     "output_type": "display_data"
    }
   ],
   "source": [
    "answer_one = current_position.forward * current_position.depth\n",
    "display(Markdown('------'))\n",
    "display(Markdown(f'The product of the horizontal and vertical position is `{answer_one}`.'))"
   ]
  },
  {
   "cell_type": "markdown",
   "metadata": {},
   "source": [
    "Great! That was correct!\n",
    "\n",
    "-----"
   ]
  },
  {
   "cell_type": "markdown",
   "metadata": {},
   "source": [
    "## Part Two\n",
    "\n",
    "> Based on your calculations, the planned course doesn't seem to make any sense. You find the submarine manual and discover that the process is actually slightly more complicated.\n",
    "\n",
    "We actually need to consider up and down to change our `aim` by `X` instead of our `depth`.\n",
    "Then, forward will also change our aim by $X \\times depth$."
   ]
  },
  {
   "cell_type": "markdown",
   "metadata": {},
   "source": [
    "Let's start by extending our Position class and giving it aim, then we can also change our command handlers."
   ]
  },
  {
   "cell_type": "code",
   "execution_count": 8,
   "metadata": {},
   "outputs": [],
   "source": [
    "class SubmarineStatus(NamedTuple):\n",
    "    forward: int\n",
    "    depth: int\n",
    "    aim: int\n",
    "\n",
    "\n",
    "current_status: SubmarineStatus = SubmarineStatus(forward=0, depth=0, aim=0)"
   ]
  },
  {
   "cell_type": "markdown",
   "metadata": {},
   "source": [
    "Now all of our command handlers need to be able to deal with a `SubmarineStatus` instead of a `Position` and we also need to implement the aim logic."
   ]
  },
  {
   "cell_type": "code",
   "execution_count": 9,
   "metadata": {},
   "outputs": [],
   "source": [
    "def handle_forward_with_aim(\n",
    "        magnitude: int, current_status: SubmarineStatus) -> SubmarineStatus:\n",
    "    return current_status._replace(forward=current_status.forward + magnitude,\n",
    "                                   depth=current_status.depth +\n",
    "                                   current_status.aim * magnitude)\n",
    "\n",
    "\n",
    "def handle_up_with_aim(magnitude: int,\n",
    "                       current_status: SubmarineStatus) -> SubmarineStatus:\n",
    "    return current_status._replace(aim=current_status.aim - magnitude)\n",
    "\n",
    "\n",
    "def handle_down_with_aim(magnitude: int,\n",
    "                         current_status: SubmarineStatus) -> SubmarineStatus:\n",
    "    return current_status._replace(aim=current_status.aim + magnitude)\n",
    "\n",
    "\n",
    "command_dict = {\n",
    "    \"forward\": handle_forward_with_aim,\n",
    "    \"up\": handle_up_with_aim,\n",
    "    \"down\": handle_down_with_aim\n",
    "}\n",
    "\n",
    "\n",
    "def handle_command_with_aim(command: str, current_status: SubmarineStatus,\n",
    "                            magnitude: int) -> SubmarineStatus:\n",
    "    command_handler = command_dict[command]\n",
    "    if command_handler is None:\n",
    "        raise NameError(f'Encountered unknown command {command}.')\n",
    "    else:\n",
    "        return command_handler(magnitude=magnitude,\n",
    "                               current_status=current_status)"
   ]
  },
  {
   "cell_type": "markdown",
   "metadata": {},
   "source": [
    "The way in which we process the commands is pretty identical, but we'll need to call a slightly different function."
   ]
  },
  {
   "cell_type": "code",
   "execution_count": 10,
   "metadata": {},
   "outputs": [
    {
     "data": {
      "text/markdown": [
       "The current_status after processing all commands is `SubmarineStatus(forward=2105, depth=757618, aim=807)`."
      ],
      "text/plain": [
       "<IPython.core.display.Markdown object>"
      ]
     },
     "metadata": {},
     "output_type": "display_data"
    }
   ],
   "source": [
    "for (index, direction, magnitude) in input_data.itertuples():\n",
    "    current_status = handle_command_with_aim(command=direction,\n",
    "                                      current_status=current_status,\n",
    "                                      magnitude=magnitude)\n",
    "\n",
    "display(\n",
    "    Markdown(\n",
    "        f'The current_status after processing all commands is `{current_status}`.'\n",
    "    ))\n"
   ]
  },
  {
   "cell_type": "code",
   "execution_count": 11,
   "metadata": {},
   "outputs": [
    {
     "data": {
      "text/markdown": [
       "------"
      ],
      "text/plain": [
       "<IPython.core.display.Markdown object>"
      ]
     },
     "metadata": {},
     "output_type": "display_data"
    },
    {
     "data": {
      "text/latex": [
       "The product of the horizontal and vertical position is: \\(2105\\times757618=1594785890\\)."
      ],
      "text/plain": [
       "<IPython.core.display.Latex object>"
      ]
     },
     "metadata": {},
     "output_type": "display_data"
    }
   ],
   "source": [
    "answer_two = current_status.forward * current_status.depth\n",
    "display(Markdown('------'))\n",
    "display(Latex(f'The product of the horizontal and vertical position is: \\({current_status.forward}\\\\times{current_status.depth}={answer_two}\\).'))"
   ]
  },
  {
   "cell_type": "markdown",
   "metadata": {},
   "source": [
    "Hooray! Correct again!\n",
    "\n",
    "-----"
   ]
  }
 ],
 "metadata": {
  "interpreter": {
   "hash": "cd72a4381b822617272ba7edd9b6d377ac0a52f81d3243ad2d70394330ec5693"
  },
  "kernelspec": {
   "display_name": "Python 3.8.10 64-bit ('python-venv': venv)",
   "language": "python",
   "name": "python3"
  },
  "language_info": {
   "codemirror_mode": {
    "name": "ipython",
    "version": 3
   },
   "file_extension": ".py",
   "mimetype": "text/x-python",
   "name": "python",
   "nbconvert_exporter": "python",
   "pygments_lexer": "ipython3",
   "version": "3.8.10"
  },
  "orig_nbformat": 4
 },
 "nbformat": 4,
 "nbformat_minor": 2
}
